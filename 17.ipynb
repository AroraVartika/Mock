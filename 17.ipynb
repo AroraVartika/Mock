{
  "nbformat": 4,
  "nbformat_minor": 0,
  "metadata": {
    "colab": {
      "provenance": []
    },
    "kernelspec": {
      "name": "python3",
      "display_name": "Python 3"
    },
    "language_info": {
      "name": "python"
    }
  },
  "cells": [
    {
      "cell_type": "markdown",
      "source": [
        "17. Write a function that takes a list of numbers as input and returns a new list containing only the even numbers from the input list. Use list comprehension to solve this problem.\n",
        "\n",
        "Example:\n",
        "\n",
        "Input: [1, 2, 3, 4, 5, 6, 7, 8, 9, 10]\n",
        "\n",
        "Output: [2, 4, 6, 8, 10]"
      ],
      "metadata": {
        "id": "-B133nSoJI4D"
      }
    },
    {
      "cell_type": "code",
      "source": [
        "list1 = [1, 2, 3, 4, 5, 6, 7, 8, 9, 10]\n",
        "\n",
        "# using list comprehension\n",
        "even_nos = [num for num in list1 if num % 2 == 0]\n",
        "\n",
        "print(\"Even numbers in the list: \", even_nos)"
      ],
      "metadata": {
        "colab": {
          "base_uri": "https://localhost:8080/"
        },
        "id": "B2y2xrBSJJTg",
        "outputId": "a409c360-07e2-4891-8339-b8ce5451a92a"
      },
      "execution_count": 1,
      "outputs": [
        {
          "output_type": "stream",
          "name": "stdout",
          "text": [
            "Even numbers in the list:  [2, 4, 6, 8, 10]\n"
          ]
        }
      ]
    }
  ]
}