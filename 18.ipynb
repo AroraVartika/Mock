{
  "nbformat": 4,
  "nbformat_minor": 0,
  "metadata": {
    "colab": {
      "provenance": []
    },
    "kernelspec": {
      "name": "python3",
      "display_name": "Python 3"
    },
    "language_info": {
      "name": "python"
    }
  },
  "cells": [
    {
      "cell_type": "markdown",
      "source": [
        " Implement a decorator function called ‘timer’ that measures the execution time of a function. The ‘timer’ decorator should print the time taken by the decorated function to execute. Use the ‘time’ module in Python to calculate the execution time.\n",
        "\n",
        "Example:\n",
        "\n",
        "import time\n",
        "\n",
        "@timer\n",
        "def my_function():\n",
        "    # Function code goes here\n",
        "    time.sleep(2)\n",
        "\n",
        "my_function()\n",
        "\n",
        "Output:\n",
        "\"Execution time: 2.00123 seconds\"\n",
        "\n"
      ],
      "metadata": {
        "id": "NuwXcqvTKzsZ"
      }
    },
    {
      "cell_type": "code",
      "source": [
        "from time import time\n",
        "\n",
        "\n",
        "def timer_func(func):\n",
        "    # This function shows the execution time of\n",
        "    # the function object passed\n",
        "    def wrap_func(*args, **kwargs):\n",
        "        t1 = time()\n",
        "        result = func(*args, **kwargs)\n",
        "        t2 = time()\n",
        "        print(f'Function {func.__name__!r} executed in {(t2-t1):.4f}s')\n",
        "        return result\n",
        "    return wrap_func\n",
        "\n",
        "\n",
        "@timer_func\n",
        "def long_time(n):\n",
        "    for i in range(n):\n",
        "        for j in range(100000):\n",
        "            i*j\n",
        "\n",
        "long_time(2)"
      ],
      "metadata": {
        "colab": {
          "base_uri": "https://localhost:8080/"
        },
        "id": "MkFU7Em-NCIR",
        "outputId": "8bc9caa3-8297-4506-dcdf-feed281f5d6a"
      },
      "execution_count": 4,
      "outputs": [
        {
          "output_type": "stream",
          "name": "stdout",
          "text": [
            "Function 'long_time' executed in 0.0194s\n"
          ]
        }
      ]
    },
    {
      "cell_type": "code",
      "source": [],
      "metadata": {
        "id": "lOeETni_UquA"
      },
      "execution_count": null,
      "outputs": []
    }
  ]
}