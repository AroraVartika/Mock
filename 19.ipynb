{
  "nbformat": 4,
  "nbformat_minor": 0,
  "metadata": {
    "colab": {
      "provenance": []
    },
    "kernelspec": {
      "name": "python3",
      "display_name": "Python 3"
    },
    "language_info": {
      "name": "python"
    }
  },
  "cells": [
    {
      "cell_type": "markdown",
      "source": [
        " Write a function called ‘calculate_mean’ that takes a list of numbers as input and returns the mean (average) of the numbers. The function should calculate the mean using the sum of the numbers divided by the total count.\n",
        "\n",
        "Example:\n",
        "\n",
        "def calculate_mean(numbers):\n",
        "    total = sum(numbers)\n",
        "    count = len(numbers)\n",
        "    mean = total / count\n",
        "    return mean\n",
        "\n",
        "data = [10, 15, 20, 25, 30]\n",
        "mean_value = calculate_mean(data)\n",
        "print(\"Mean:\", mean_value)\n",
        "\n",
        "Output:\n",
        "Mean: 20.0\n"
      ],
      "metadata": {
        "id": "UTCGb2IVOINT"
      }
    },
    {
      "cell_type": "code",
      "source": [
        "def Average(lst):\n",
        "    sum_of_list = 0\n",
        "    for i in range(len(lst)):\n",
        "        sum_of_list += lst[i]\n",
        "    average = sum_of_list/len(lst)\n",
        "    return average\n",
        "\n",
        "\n",
        "# Driver Code\n",
        "lst = [10, 15, 20, 25, 30]\n",
        "average = Average(lst)\n",
        "print(\"Average of the list =\", round(average, 2))"
      ],
      "metadata": {
        "colab": {
          "base_uri": "https://localhost:8080/"
        },
        "id": "IqHYhiJpOIjZ",
        "outputId": "f82b285c-a6d4-4259-a9f2-696fe386e46a"
      },
      "execution_count": 2,
      "outputs": [
        {
          "output_type": "stream",
          "name": "stdout",
          "text": [
            "Average of the list = 20.0\n"
          ]
        }
      ]
    }
  ]
}