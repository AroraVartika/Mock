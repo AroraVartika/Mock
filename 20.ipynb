{
  "nbformat": 4,
  "nbformat_minor": 0,
  "metadata": {
    "colab": {
      "provenance": []
    },
    "kernelspec": {
      "name": "python3",
      "display_name": "Python 3"
    },
    "language_info": {
      "name": "python"
    }
  },
  "cells": [
    {
      "cell_type": "markdown",
      "source": [
        "20. Write a function called ‘perform_hypothesis_test’ that takes two lists of numbers as input, representing two samples. The function should perform a two-sample t-test and return the p-value. Use the ‘scipy.stats’ module in Python to calculate the t-test and p-value.\n"
      ],
      "metadata": {
        "id": "6uS56RK3RNk7"
      }
    },
    {
      "cell_type": "code",
      "source": [
        "from scipy import stats\n",
        "\n",
        "def perform_hypothesis_test(sample1, sample2):\n",
        "    t_statistic, p_value = stats.ttest_ind(sample1, sample2)\n",
        "    return p_value\n",
        "\n",
        "sample1 = [5, 10, 15, 20, 25]\n",
        "sample2 = [10, 20, 30, 40, 50]\n",
        "p_value = perform_hypothesis_test(sample1, sample2)\n",
        "print(\"P-value:\", p_value)"
      ],
      "metadata": {
        "colab": {
          "base_uri": "https://localhost:8080/"
        },
        "id": "wprNB0WvRN2P",
        "outputId": "c94346e6-23c6-401b-cc7c-b1e8b2ffa97e"
      },
      "execution_count": 1,
      "outputs": [
        {
          "output_type": "stream",
          "name": "stdout",
          "text": [
            "P-value: 0.09434977284243756\n"
          ]
        }
      ]
    },
    {
      "cell_type": "code",
      "source": [
        "import scipy.stats as stats\n",
        "import numpy as np\n",
        "\n",
        "data_group1 = np.array([5, 10, 15, 20, 25])\n",
        "\n",
        "data_group2 = np.array([10, 20, 30, 40, 50])\n",
        "\n",
        "stats.ttest_ind(a=data_group1, b=data_group2, equal_var=True)"
      ],
      "metadata": {
        "colab": {
          "base_uri": "https://localhost:8080/"
        },
        "id": "BlY-aPaqSXq6",
        "outputId": "27178e31-2900-447f-88fb-b799badf765d"
      },
      "execution_count": 4,
      "outputs": [
        {
          "output_type": "execute_result",
          "data": {
            "text/plain": [
              "Ttest_indResult(statistic=-1.8973665961010275, pvalue=0.09434977284243756)"
            ]
          },
          "metadata": {},
          "execution_count": 4
        }
      ]
    }
  ]
}